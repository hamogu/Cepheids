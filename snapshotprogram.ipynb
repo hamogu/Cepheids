{
 "cells": [
  {
   "cell_type": "code",
   "execution_count": 1,
   "metadata": {
    "collapsed": true
   },
   "outputs": [],
   "source": [
    "import os\n",
    "from glob import glob\n",
    "\n",
    "import numpy as np\n",
    "import matplotlib.pyplot as plt\n",
    "\n",
    "from astropy.io import fits\n",
    "from astropy.table import Column, MaskedColumn, vstack\n",
    "from astropy.nddata import Cutout2D\n",
    "from astropy.wcs import WCS\n",
    "\n",
    "import psfsubtraction.prepare.centering\n",
    "\n",
    "%matplotlib inline"
   ]
  },
  {
   "cell_type": "code",
   "execution_count": 46,
   "metadata": {
    "collapsed": true
   },
   "outputs": [],
   "source": [
    "import ipyparallel\n",
    "\n",
    "rc = ipyparallel.Client()\n",
    "dview = rc[:]\n",
    "lview = rc.load_balanced_view()"
   ]
  },
  {
   "cell_type": "code",
   "execution_count": 3,
   "metadata": {
    "collapsed": true
   },
   "outputs": [],
   "source": [
    "datadir = '/melkor/d1/guenther/obs/HST/Cepheids/snapshotprogram/'\n",
    "outdir = '/melkor/d1/guenther/projects/Cepheids/HSTsnapshot/'"
   ]
  },
  {
   "cell_type": "code",
   "execution_count": 4,
   "metadata": {
    "collapsed": true
   },
   "outputs": [],
   "source": [
    "fitslist = glob(os.path.join(datadir, '?????????_drz.fits'))\n",
    "\n",
    "F621Mfiles = np.array([f for f in fitslist if (fits.getval(f, 'FILTER') == 'F621M')])\n",
    "F621Mnames = [fits.getval(f, 'TARGNAME') for f in F621Mfiles]\n",
    "F621Mfiles = F621Mfiles[np.argsort(F621Mnames)]\n",
    "\n",
    "\n",
    "F845Mfiles = np.array([f for f in fitslist if (fits.getval(f, 'FILTER') == 'F845M')])\n",
    "F845Mnames = [fits.getval(f, 'TARGNAME') for f in F845Mfiles]\n",
    "F845Mfiles = F845Mfiles[np.argsort(F845Mnames)]"
   ]
  },
  {
   "cell_type": "code",
   "execution_count": 5,
   "metadata": {
    "collapsed": false
   },
   "outputs": [],
   "source": [
    "def read_images(filelist, halfwidth):\n",
    "    '''Read files, make header wrappers for WCS'''\n",
    "    images = np.ma.zeros((2 * halfwidth + 1, 2 * halfwidth + 1, len(filelist)))\n",
    "    targets = []\n",
    "\n",
    "    for i, f in enumerate(filelist):\n",
    "        hdus = fits.open(f)\n",
    "        xm, ym = psfsubtraction.prepare.centering.center_from_spikes(hdus[1].data)\n",
    "        targets.append(Cutout2D(hdus[1].data, (xm, ym), halfwidth, wcs=WCS(hdus[1].header)))\n",
    "        xm = np.int(xm + 0.5)\n",
    "        ym = np.int(ym + 0.5)\n",
    "        images[:, :, i] = hdus[1].data[xm - halfwidth: xm+halfwidth + 1,\n",
    "                                       ym - halfwidth: ym+halfwidth + 1]\n",
    "        hdus.close()\n",
    "    return images, targets\n"
   ]
  },
  {
   "cell_type": "code",
   "execution_count": 6,
   "metadata": {
    "collapsed": false
   },
   "outputs": [],
   "source": [
    "F621Marr, F621M = read_images(F621Mfiles, 50)\n",
    "F845Marr, F845M = read_images(F845Mfiles, 50)"
   ]
  },
  {
   "cell_type": "code",
   "execution_count": 7,
   "metadata": {
    "collapsed": false
   },
   "outputs": [],
   "source": [
    "def mask_saturated(images, maskingfunc):\n",
    "    '''Mask pixels above a certain value\n",
    "   \n",
    "    Parameters\n",
    "    ----------\n",
    "    image : np.array\n",
    "        2d or 3d array of images (if 2d, then array of flattend images)\n",
    "    maskingfunc : callable\n",
    "        This function is called for every image. It returns as boolean mask\n",
    "        that is ``True`` for all values that should be masked.\n",
    "    '''\n",
    "    for i in range(images.shape[-1]):\n",
    "        images[maskingfunc(images[..., i]), i] = np.ma.masked\n",
    "    return images"
   ]
  },
  {
   "cell_type": "code",
   "execution_count": 8,
   "metadata": {
    "collapsed": false
   },
   "outputs": [],
   "source": [
    "F621Marr = mask_saturated(F621Marr, lambda x: x > 0.6 * x.max())\n",
    "F845Marr = mask_saturated(F845Marr, lambda x: x > 0.6 * x.max())"
   ]
  },
  {
   "cell_type": "code",
   "execution_count": 9,
   "metadata": {
    "collapsed": false
   },
   "outputs": [],
   "source": [
    "normF621 = np.ma.median(F621Marr.reshape((-1, F621Marr.shape[-1])), axis=0)\n",
    "normF845 = np.ma.median(F845Marr.reshape((-1, F845Marr.shape[-1])), axis=0)\n",
    "\n",
    "medianimF621 = np.ma.median(F621Marr.reshape((-1, F621Marr.shape[-1])), axis=1)\n",
    "medianimF621 /= np.ma.median(medianimF621)\n",
    "medianimF845 = np.ma.median(F845Marr.reshape((-1, F845Marr.shape[-1])), axis=1)\n",
    "medianimF845 /= np.ma.median(medianimF845)"
   ]
  },
  {
   "cell_type": "code",
   "execution_count": 10,
   "metadata": {
    "collapsed": true
   },
   "outputs": [],
   "source": [
    "def apply_mediannorm(arr, normperim, normim):\n",
    "    shape = arr.shape\n",
    "    arr = arr.reshape((-1, shape[-1]))\n",
    "    arr /= normperim[None, :]\n",
    "    arr /= normim[:, None]\n",
    "    return arr.reshape(shape)\n",
    "\n",
    "def remove_mediannorm(arr, normperim, normim):\n",
    "    shape = arr.shape\n",
    "    arr = arr.reshape((-1, shape[-1]))\n",
    "    arr *= normperim[None, :]\n",
    "    arr *= normim[:, None]\n",
    "    return arr.reshape(shape)"
   ]
  },
  {
   "cell_type": "code",
   "execution_count": 11,
   "metadata": {
    "collapsed": true
   },
   "outputs": [],
   "source": [
    "normF621 = apply_mediannorm(F621Marr.copy(), normF621, medianimF621)\n",
    "normF845 = apply_mediannorm(F845Marr.copy(), normF845, medianimF845)"
   ]
  },
  {
   "cell_type": "code",
   "execution_count": 93,
   "metadata": {
    "collapsed": false
   },
   "outputs": [],
   "source": [
    "'''\n",
    "Now, I run some examples with different parameters. \n",
    "I will compare them below (interactively by hand, not all plots are available in this notebook)\n",
    "to determine the best parameters.\n",
    "\n",
    "(Most of these calls can run on an engine in parallel.)\n",
    "'''\n",
    "# mask the bases with a stricter limit than the image data\n",
    "# My idea is the following:\n",
    "#    If the image data is bad, then there is nothing we can do about itb\n",
    "#    but if the data in any base is bad, I can just not use that base for the pixel in question.\n",
    "#    If we do us a signel bad base, that pixel is probably screwed up for the analysis, so it might be \n",
    "#    beneficial to use fewer bases when in doubt than risking a single base that is saturated.\n",
    "F621_stricter_masking = mask_saturated(F621Marr.copy(), lambda x: x > .4 * x.max())\n",
    "F621_base = np.ma.array(normF621.copy(), mask=F621_stricter_masking.mask, copy=True)\n",
    "f = psfsubtraction.fitpsftemplates.fitters.UseAllPixelsSubtraction(normF621[..., 0], \n",
    "                                                                             remove_img_from_psfbase(F621_base, 0))\n",
    "async1 = lview.map_async(lambda x: x.remove_psf(), [f])\n",
    "\n",
    "F621_stricter_masking = mask_saturated(F621Marr.copy(), lambda x: x > .6 * x.max())\n",
    "F621_base = np.ma.array(normF621.copy(), mask=F621_stricter_masking.mask, copy=True)\n",
    "f = psfsubtraction.fitpsftemplates.fitters.UseAllPixelsSubtraction(normF621[..., 0], \n",
    "                                                                             remove_img_from_psfbase(F621_base, 0))\n",
    "async2 = lview.map_async(lambda x: x.remove_psf(), [f])\n",
    "\n",
    "F621_stricter_masking = mask_saturated(F621Marr.copy(), lambda x: x > .8 * x.max())\n",
    "F621_base = np.ma.array(normF621.copy(), mask=F621_stricter_masking.mask, copy=True)\n",
    "f = psfsubtraction.fitpsftemplates.fitters.UseAllPixelsSubtraction(normF621[..., 0], \n",
    "                                                                             remove_img_from_psfbase(F621_base, 0))\n",
    "async3 = lview.map_async(lambda x: x.remove_psf(), [f])\n",
    "\n",
    "F621_stricter_masking = mask_saturated(F621Marr.copy(), lambda x: x > 1 * x.max())\n",
    "F621_base = np.ma.array(normF621.copy(), mask=F621_stricter_masking.mask, copy=True)\n",
    "f = psfsubtraction.fitpsftemplates.fitters.UseAllPixelsSubtraction(normF621[..., 0], \n",
    "                                                                             remove_img_from_psfbase(F621_base, 0))\n",
    "async4 = lview.map_async(lambda x: x.remove_psf(), [f])\n",
    "\n",
    "# Now, we repeat async2, but require a minimum number of bases. This is\n",
    "# - faster (because fewer regions need to be evaluated)\n",
    "# - fits that use just one or two bases are probably not very good anyway, so it might be better to have those\n",
    "#   regions masked than to have bogus numbers in the result.\n",
    "F621_stricter_masking = mask_saturated(F621Marr.copy(), lambda x: x > .6 * x.max())\n",
    "F621_base = np.ma.array(normF621.copy(), mask=F621_stricter_masking.mask, copy=True)\n",
    "f = psfsubtraction.fitpsftemplates.fitters.UseAllPixelsSubtraction(normF621[..., 0], \n",
    "                                                                             remove_img_from_psfbase(F621_base, 0))\n",
    "f.min_number_of_bases = 35\n",
    "async5 = lview.map_async(lambda x: x.remove_psf(), [f])\n",
    "\n",
    "# Repeat async2. Perform the subtraction on all pixels availble, but do *not* use the pixels\n",
    "# very close to the center in the fitting.\n",
    "# Because the class is defined interactively, I cannot easily ship it off to an engine.\n",
    "# I can still wrap the result in a list, so that is looks the same as the async results.\n",
    "import psfsubtraction.fitpsftemplates.fitregion\n",
    "class fitter_except_center(psfsubtraction.fitpsftemplates.fitters.UseAllPixelsSubtraction):\n",
    "    fitregion = psfsubtraction.fitpsftemplates.fitregion.wrapper_fitmask(\n",
    "                        psfsubtraction.fitpsftemplates.fitregion.all_unmasked)\n",
    "\n",
    "F621_stricter_masking = mask_saturated(F621Marr.copy(), lambda x: x > .6 * x.max())\n",
    "F621_base = np.ma.array(normF621.copy(), mask=F621_stricter_masking.mask, copy=True)\n",
    "f = fitter_except_center(normF621[..., 0], remove_img_from_psfbase(normF621.copy(), 0))\n",
    "f.fitmask = np.max(F621_stricter_masking.mask.reshape((-1, 70)), axis=1)\n",
    "async6 = [f.remove_psf()]"
   ]
  },
  {
   "cell_type": "code",
   "execution_count": 102,
   "metadata": {
    "collapsed": false
   },
   "outputs": [
    {
     "name": "stdout",
     "output_type": "stream",
     "text": [
      "267\n"
     ]
    },
    {
     "data": {
      "text/plain": [
       "<matplotlib.colorbar.Colorbar instance at 0x7f804f6528c0>"
      ]
     },
     "execution_count": 102,
     "metadata": {},
     "output_type": "execute_result"
    },
    {
     "data": {
      "image/png": "[encoded data removed]",
      "text/plain": [
       "<matplotlib.figure.Figure at 0x7f804f9db690>"
      ]
     },
     "metadata": {},
     "output_type": "display_data"
    }
   ],
   "source": [
    "print len(f.regions())\n",
    "\n",
    "fig = plt.figure(figsize=(15, 4))\n",
    "ax1 = fig.add_subplot(131)\n",
    "im1 = ax1.imshow(async6[0] - async5.get()[0], vmin=-.1, vmax=.1, interpolation=\"nearest\")\n",
    "plt.colorbar(im1, ax=ax1)\n",
    "ax2 = fig.add_subplot(132)\n",
    "im2 = ax2.imshow(async6[0], vmin=-.1, vmax=.1, interpolation=\"nearest\")\n",
    "plt.colorbar(im2, ax=ax2)\n",
    "ax3 = fig.add_subplot(133)\n",
    "im3 = ax3.imshow(async5.get()[0], vmin=-.1, vmax=.1, interpolation=\"nearest\")\n",
    "plt.colorbar(im3, ax=ax3)\n",
    "                                                                       "
   ]
  },
  {
   "cell_type": "code",
   "execution_count": null,
   "metadata": {
    "collapsed": true
   },
   "outputs": [],
   "source": [
    "'''\n",
    "Comparing the experiements above by eye, I see that there is not obvious *best* solution,\n",
    "e.g. comparing results 2 and 6, I see that the one works better on the left of the Cepheid, the other one on the\n",
    "right side. One is slightly better in the center, the other one on the edge of the diffraction spikes.\n",
    "\n",
    "Obviously, the results will also be slightly different for different images, but for those examples that I looked\n",
    "at by eye it holds that differenes are small and there is no best solution.\n",
    "Thus, I now pick, somewhat arbitrarily the parameters that will be applied to the full dataset:\n",
    "\n",
    "Given that we don't loose much useful data, I will set min_number_of_bases = 35 which reduced runtime by about 50%.\n",
    "Also, for simplicity, we'll use the same masks for data and bases.\n",
    "\n",
    "'''"
   ]
  },
  {
   "cell_type": "code",
   "execution_count": 24,
   "metadata": {
    "collapsed": false
   },
   "outputs": [],
   "source": [
    "from psfsubtraction.fitpsftemplates.fitters import UseAllPixelsSubtraction as UAPS\n",
    "\n",
    "def remove_img_from_psfbase(base, i):\n",
    "    ind = np.ones(base.shape[-1], dtype=bool)\n",
    "    ind[i] = False\n",
    "    return base[..., ind]\n",
    "\n",
    "F621inputs = [UAPS(normF621[..., i], remove_img_from_psfbase(normF621, i)) for i in range(normF621.shape[-1])]\n",
    "\n",
    "for f in F621inputs:\n",
    "    f.min_number_of_bases = 35\n"
   ]
  },
  {
   "cell_type": "code",
   "execution_count": 48,
   "metadata": {
    "collapsed": false
   },
   "outputs": [],
   "source": [
    "asyncres = lview.map_async(lambda x: x.remove_psf(), F621inputs[:5])"
   ]
  },
  {
   "cell_type": "code",
   "execution_count": 49,
   "metadata": {
    "collapsed": false,
    "scrolled": true
   },
   "outputs": [],
   "source": [
    "res = asyncres.get()"
   ]
  },
  {
   "cell_type": "code",
   "execution_count": null,
   "metadata": {
    "collapsed": true
   },
   "outputs": [],
   "source": []
  },
  {
   "cell_type": "code",
   "execution_count": null,
   "metadata": {
    "collapsed": true
   },
   "outputs": [],
   "source": [
    "# Vegamag zero points are here http://www.stsci.edu/hst/wfc3/phot_zp_lbn\n",
    "\n",
    "# Units in image are electrons/s\n",
    "# Images are drz -> drizzeled -> pixels are all same size.\n",
    "\n",
    "\n",
    "def flux2magF621M(x):\n",
    "    return -2.5 * np.log10(x) + 24.4539\n",
    "\n",
    "\n",
    "def flux2magF845M(x):\n",
    "    return -2.5 * np.log10(x) + 23.2809"
   ]
  },
  {
   "cell_type": "code",
   "execution_count": null,
   "metadata": {
    "collapsed": true
   },
   "outputs": [],
   "source": [
    "\n",
    "\n",
    "\n",
    "\n",
    "\n",
    "\n",
    "\n",
    "halfwidth = 50\n",
    "daofindkwargs = {'fwhm': 1.5, 'threshold': 7, 'roundlo': -0.8, 'roundhi': 0.8}\n",
    "\n",
    "fluxes, imout, scaledout = detection.photometryloop(images, targets, **daofindkwargs)\n",
    "fluxes.add_column(MaskedColumn(flux2magF621M(fluxes['flux_fit']), 'mag_fit'))\n",
    "fluxes.add_column(MaskedColumn(['F621M'] * len(fluxes), 'filter'))\n",
    "#detection.plot_gallery('PSF subtr. - linear scale', imout, 10, 7, sources=fluxes)\n",
    "#detection.plot_gallery('PSF subtr. - funny scale', scaledout, 10, 7, sources=fluxes)\n",
    "# Get rid of negative fluxes. They must be fit artifacts\n",
    "# Investigate later where they come from.\n",
    "fluxes = fluxes[~fluxes['mag_fit'].mask]"
   ]
  }
 ],
 "metadata": {
  "kernelspec": {
   "display_name": "Python 2",
   "language": "python",
   "name": "python2"
  },
  "language_info": {
   "codemirror_mode": {
    "name": "ipython",
    "version": 2
   },
   "file_extension": ".py",
   "mimetype": "text/x-python",
   "name": "python",
   "nbconvert_exporter": "python",
   "pygments_lexer": "ipython2",
   "version": "2.7.11"
  }
 },
 "nbformat": 4,
 "nbformat_minor": 0
}
