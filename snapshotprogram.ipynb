{
 "cells": [
  {
   "cell_type": "code",
   "execution_count": 1,
   "metadata": {
    "collapsed": true
   },
   "outputs": [],
   "source": [
    "import os\n",
    "from glob import glob\n",
    "\n",
    "import numpy as np\n",
    "import matplotlib.pyplot as plt\n",
    "\n",
    "from astropy.io import fits\n",
    "from astropy.table import Column, MaskedColumn, vstack\n",
    "from astropy.nddata import Cutout2D\n",
    "from astropy.wcs import WCS\n",
    "\n",
    "import sys\n",
    "sys.path.append('/melkor/d1/guenther/soft/python/psfsubtraction/')\n",
    "import psfsubtraction.prepare.centering\n",
    "\n",
    "%matplotlib inline"
   ]
  },
  {
   "cell_type": "code",
   "execution_count": 2,
   "metadata": {
    "collapsed": true
   },
   "outputs": [],
   "source": [
    "import ipyparallel\n",
    "\n",
    "rc = ipyparallel.Client()\n",
    "dview = rc[:]\n",
    "lview = rc.load_balanced_view()"
   ]
  },
  {
   "cell_type": "code",
   "execution_count": 3,
   "metadata": {
    "collapsed": true
   },
   "outputs": [],
   "source": [
    "datadir = '/melkor/d1/guenther/obs/HST/Cepheids/snapshotprogram/'\n",
    "outdir = '/melkor/d1/guenther/projects/Cepheids/HSTsnapshot/'"
   ]
  },
  {
   "cell_type": "code",
   "execution_count": 4,
   "metadata": {
    "collapsed": true
   },
   "outputs": [],
   "source": [
    "fitslist = glob(os.path.join(datadir, '?????????_drz.fits'))\n",
    "\n",
    "F621Mfiles = np.array([f for f in fitslist if (fits.getval(f, 'FILTER') == 'F621M')])\n",
    "F621Mnames = [fits.getval(f, 'TARGNAME') for f in F621Mfiles]\n",
    "F621Mfiles = F621Mfiles[np.argsort(F621Mnames)]\n",
    "\n",
    "\n",
    "F845Mfiles = np.array([f for f in fitslist if (fits.getval(f, 'FILTER') == 'F845M')])\n",
    "F845Mnames = [fits.getval(f, 'TARGNAME') for f in F845Mfiles]\n",
    "F845Mfiles = F845Mfiles[np.argsort(F845Mnames)]"
   ]
  },
  {
   "cell_type": "code",
   "execution_count": 5,
   "metadata": {
    "collapsed": false
   },
   "outputs": [],
   "source": [
    "def read_images(filelist, halfwidth):\n",
    "    '''Read files, make header wrappers for WCS'''\n",
    "    images = np.ma.zeros((2 * halfwidth + 1, 2 * halfwidth + 1, len(filelist)))\n",
    "    targets = []\n",
    "\n",
    "    for i, f in enumerate(filelist):\n",
    "        hdus = fits.open(f)\n",
    "        xm, ym = psfsubtraction.prepare.centering.center_from_spikes(hdus[1].data)\n",
    "        targets.append(Cutout2D(hdus[1].data, (xm, ym), halfwidth, wcs=WCS(hdus[1].header)))\n",
    "        xm = np.int(xm + 0.5)\n",
    "        ym = np.int(ym + 0.5)\n",
    "        images[:, :, i] = hdus[1].data[xm - halfwidth: xm+halfwidth + 1,\n",
    "                                       ym - halfwidth: ym+halfwidth + 1]\n",
    "        hdus.close()\n",
    "    return images, targets\n"
   ]
  },
  {
   "cell_type": "code",
   "execution_count": 6,
   "metadata": {
    "collapsed": false
   },
   "outputs": [],
   "source": [
    "F621Marr, F621M = read_images(F621Mfiles, 50)\n",
    "F845Marr, F845M = read_images(F845Mfiles, 50)"
   ]
  },
  {
   "cell_type": "code",
   "execution_count": 7,
   "metadata": {
    "collapsed": false
   },
   "outputs": [],
   "source": [
    "def mask_saturated(images, maskingfunc):\n",
    "    '''Mask pixels above a certain value\n",
    "   \n",
    "    Parameters\n",
    "    ----------\n",
    "    image : np.array\n",
    "        2d or 3d array of images (if 2d, then array of flattend images)\n",
    "    maskingfunc : callable\n",
    "        This function is called for every image. It returns as boolean mask\n",
    "        that is ``True`` for all values that should be masked.\n",
    "    '''\n",
    "    for i in range(images.shape[-1]):\n",
    "        images[maskingfunc(images[..., i]), i] = np.ma.masked\n",
    "    return images"
   ]
  },
  {
   "cell_type": "code",
   "execution_count": 8,
   "metadata": {
    "collapsed": false
   },
   "outputs": [],
   "source": [
    "F621Marr = mask_saturated(F621Marr, lambda x: x > 0.6 * x.max())\n",
    "F845Marr = mask_saturated(F845Marr, lambda x: x > 0.6 * x.max())"
   ]
  },
  {
   "cell_type": "code",
   "execution_count": 9,
   "metadata": {
    "collapsed": false
   },
   "outputs": [],
   "source": [
    "normF621 = np.ma.median(F621Marr.reshape((-1, F621Marr.shape[-1])), axis=0)\n",
    "normF845 = np.ma.median(F845Marr.reshape((-1, F845Marr.shape[-1])), axis=0)\n",
    "\n",
    "medianimF621 = np.ma.median(F621Marr.reshape((-1, F621Marr.shape[-1])), axis=1)\n",
    "medianimF621 /= np.ma.median(medianimF621)\n",
    "medianimF845 = np.ma.median(F845Marr.reshape((-1, F845Marr.shape[-1])), axis=1)\n",
    "medianimF845 /= np.ma.median(medianimF845)"
   ]
  },
  {
   "cell_type": "code",
   "execution_count": 10,
   "metadata": {
    "collapsed": true
   },
   "outputs": [],
   "source": [
    "def apply_mediannorm(arr, normperim, normim):\n",
    "    shape = arr.shape\n",
    "    arr = arr.reshape((-1, shape[-1]))\n",
    "    arr /= normperim[None, :]\n",
    "    arr /= normim[:, None]\n",
    "    return arr.reshape(shape)\n",
    "\n",
    "def remove_mediannorm(arr, normperim, normim):\n",
    "    shape = arr.shape\n",
    "    arr = arr.reshape((-1, shape[-1]))\n",
    "    arr *= normperim[None, :]\n",
    "    arr *= normim[:, None]\n",
    "    return arr.reshape(shape)"
   ]
  },
  {
   "cell_type": "code",
   "execution_count": 11,
   "metadata": {
    "collapsed": true
   },
   "outputs": [],
   "source": [
    "normF621 = apply_mediannorm(F621Marr.copy(), normF621, medianimF621)\n",
    "normF845 = apply_mediannorm(F845Marr.copy(), normF845, medianimF845)"
   ]
  },
  {
   "cell_type": "code",
   "execution_count": 20,
   "metadata": {
    "collapsed": false
   },
   "outputs": [],
   "source": [
    "F621_stricter_masking = mask_saturated(F621Marr, lambda x: x > 0.2 * x.max())\n",
    "F621_base = np.ma.array(normF621, mask=F621_stricter_masking, copy=True)\n",
    "\n",
    "from psfsubtraction.fitpsftemplates.fitters import UseAllPixelsSubtraction as UAPS\n",
    "\n",
    "F621inputs = [UAPS(normF621[..., i], np.delete(F621_base, i, axis=-1)) for i in range(F621_base.shape[-1])]"
   ]
  },
  {
   "cell_type": "code",
   "execution_count": 21,
   "metadata": {
    "collapsed": true
   },
   "outputs": [],
   "source": [
    "@lview.parallel\n",
    "def psffit_single_image(psffitter):\n",
    "    return psffitter.remove_psf()"
   ]
  },
  {
   "cell_type": "code",
   "execution_count": 23,
   "metadata": {
    "collapsed": false
   },
   "outputs": [
    {
     "ename": "AttributeError",
     "evalue": "'function' object has no attribute 'map'",
     "output_type": "error",
     "traceback": [
      "\u001b[1;31m---------------------------------------------------------------------------\u001b[0m",
      "\u001b[1;31mAttributeError\u001b[0m                            Traceback (most recent call last)",
      "\u001b[1;32m<ipython-input-23-ac819c776a9c>\u001b[0m in \u001b[0;36m<module>\u001b[1;34m()\u001b[0m\n\u001b[1;32m----> 1\u001b[1;33m \u001b[0masyncres\u001b[0m \u001b[1;33m=\u001b[0m \u001b[0mpsffit_single_image\u001b[0m\u001b[1;33m.\u001b[0m\u001b[0mmap\u001b[0m\u001b[1;33m(\u001b[0m\u001b[0mF621inputs\u001b[0m\u001b[1;33m)\u001b[0m\u001b[1;33m\u001b[0m\u001b[0m\n\u001b[0m",
      "\u001b[1;31mAttributeError\u001b[0m: 'function' object has no attribute 'map'"
     ]
    }
   ],
   "source": [
    "asyncres = psffit_single_image.map(F621inputs)"
   ]
  },
  {
   "cell_type": "code",
   "execution_count": null,
   "metadata": {
    "collapsed": true
   },
   "outputs": [],
   "source": [
    "# Vegamag zero points are here http://www.stsci.edu/hst/wfc3/phot_zp_lbn\n",
    "\n",
    "# Units in image are electrons/s\n",
    "# Images are drz -> drizzeled -> pixels are all same size.\n",
    "\n",
    "\n",
    "def flux2magF621M(x):\n",
    "    return -2.5 * np.log10(x) + 24.4539\n",
    "\n",
    "\n",
    "def flux2magF845M(x):\n",
    "    return -2.5 * np.log10(x) + 23.2809"
   ]
  },
  {
   "cell_type": "code",
   "execution_count": null,
   "metadata": {
    "collapsed": true
   },
   "outputs": [],
   "source": [
    "\n",
    "\n",
    "\n",
    "\n",
    "\n",
    "\n",
    "\n",
    "halfwidth = 50\n",
    "daofindkwargs = {'fwhm': 1.5, 'threshold': 7, 'roundlo': -0.8, 'roundhi': 0.8}\n",
    "\n",
    "fluxes, imout, scaledout = detection.photometryloop(images, targets, **daofindkwargs)\n",
    "fluxes.add_column(MaskedColumn(flux2magF621M(fluxes['flux_fit']), 'mag_fit'))\n",
    "fluxes.add_column(MaskedColumn(['F621M'] * len(fluxes), 'filter'))\n",
    "#detection.plot_gallery('PSF subtr. - linear scale', imout, 10, 7, sources=fluxes)\n",
    "#detection.plot_gallery('PSF subtr. - funny scale', scaledout, 10, 7, sources=fluxes)\n",
    "# Get rid of negative fluxes. They must be fit artifacts\n",
    "# Investigate later where they come from.\n",
    "fluxes = fluxes[~fluxes['mag_fit'].mask]"
   ]
  }
 ],
 "metadata": {
  "kernelspec": {
   "display_name": "Python 2",
   "language": "python",
   "name": "python2"
  },
  "language_info": {
   "codemirror_mode": {
    "name": "ipython",
    "version": 2
   },
   "file_extension": ".py",
   "mimetype": "text/x-python",
   "name": "python",
   "nbconvert_exporter": "python",
   "pygments_lexer": "ipython2",
   "version": "2.7.11"
  }
 },
 "nbformat": 4,
 "nbformat_minor": 0
}
